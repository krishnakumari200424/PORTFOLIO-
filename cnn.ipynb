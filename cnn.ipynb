{
  "nbformat": 4,
  "nbformat_minor": 0,
  "metadata": {
    "colab": {
      "provenance": [],
      "authorship_tag": "ABX9TyN+/so+SgeJQoa0bB1zZiSb",
      "include_colab_link": true
    },
    "kernelspec": {
      "name": "python3",
      "display_name": "Python 3"
    },
    "language_info": {
      "name": "python"
    }
  },
  "cells": [
    {
      "cell_type": "markdown",
      "metadata": {
        "id": "view-in-github",
        "colab_type": "text"
      },
      "source": [
        "<a href=\"https://colab.research.google.com/github/krishnakumari200424/PORTFOLIO-/blob/main/cnn.ipynb\" target=\"_parent\"><img src=\"https://colab.research.google.com/assets/colab-badge.svg\" alt=\"Open In Colab\"/></a>"
      ]
    },
    {
      "cell_type": "code",
      "execution_count": null,
      "metadata": {
        "colab": {
          "base_uri": "https://localhost:8080/",
          "height": 1000
        },
        "id": "mecCaJ7-vQbw",
        "outputId": "deecef4b-8806-4c7a-8216-f0c58269fcf8"
      },
      "outputs": [
        {
          "output_type": "stream",
          "name": "stdout",
          "text": [
            "Downloading data from https://www.cs.toronto.edu/~kriz/cifar-10-python.tar.gz\n",
            "\u001b[1m170498071/170498071\u001b[0m \u001b[32m━━━━━━━━━━━━━━━━━━━━\u001b[0m\u001b[37m\u001b[0m \u001b[1m3s\u001b[0m 0us/step\n",
            "Train shape: (50000, 32, 32, 3)\n",
            "Test shape: (10000, 32, 32, 3)\n",
            "Train labels shape: (50000, 1)\n",
            "Sample train labels: [[6]\n",
            " [9]\n",
            " [9]\n",
            " [4]\n",
            " [1]]\n",
            "Reshaped train labels: [6 9 9 4 1]\n"
          ]
        },
        {
          "output_type": "display_data",
          "data": {
            "text/plain": [
              "<Figure size 300x300 with 1 Axes>"
            ],
            "image/png": "[encoded data removed]"
          },
          "metadata": {}
        },
        {
          "output_type": "display_data",
          "data": {
            "text/plain": [
              "<Figure size 300x300 with 1 Axes>"
            ],
            "image/png": "[encoded data removed]"
          },
          "metadata": {}
        },
        {
          "output_type": "stream",
          "name": "stderr",
          "text": [
            "/usr/local/lib/python3.11/dist-packages/keras/src/layers/reshaping/flatten.py:37: UserWarning: Do not pass an `input_shape`/`input_dim` argument to a layer. When using Sequential models, prefer using an `Input(shape)` object as the first layer in the model instead.\n",
            "  super().__init__(**kwargs)\n"
          ]
        },
        {
          "output_type": "stream",
          "name": "stdout",
          "text": [
            "\n",
            "Training ANN model...\n",
            "Epoch 1/5\n",
            "\u001b[1m1563/1563\u001b[0m \u001b[32m━━━━━━━━━━━━━━━━━━━━\u001b[0m\u001b[37m\u001b[0m \u001b[1m119s\u001b[0m 76ms/step - accuracy: 0.3046 - loss: 1.9315\n",
            "Epoch 2/5\n",
            "\u001b[1m1563/1563\u001b[0m \u001b[32m━━━━━━━━━━━━━━━━━━━━\u001b[0m\u001b[37m\u001b[0m \u001b[1m143s\u001b[0m 77ms/step - accuracy: 0.4203 - loss: 1.6507\n",
            "Epoch 3/5\n",
            "\u001b[1m1563/1563\u001b[0m \u001b[32m━━━━━━━━━━━━━━━━━━━━\u001b[0m\u001b[37m\u001b[0m \u001b[1m130s\u001b[0m 83ms/step - accuracy: 0.4555 - loss: 1.5508\n",
            "Epoch 4/5\n",
            "\u001b[1m1563/1563\u001b[0m \u001b[32m━━━━━━━━━━━━━━━━━━━━\u001b[0m\u001b[37m\u001b[0m \u001b[1m135s\u001b[0m 79ms/step - accuracy: 0.4768 - loss: 1.4894\n",
            "Epoch 5/5\n",
            "\u001b[1m1563/1563\u001b[0m \u001b[32m━━━━━━━━━━━━━━━━━━━━\u001b[0m\u001b[37m\u001b[0m \u001b[1m143s\u001b[0m 80ms/step - accuracy: 0.4952 - loss: 1.4287\n",
            "\u001b[1m313/313\u001b[0m \u001b[32m━━━━━━━━━━━━━━━━━━━━\u001b[0m\u001b[37m\u001b[0m \u001b[1m8s\u001b[0m 24ms/step\n",
            "\n",
            "ANN Classification Report:\n",
            "              precision    recall  f1-score   support\n",
            "\n",
            "           0       0.66      0.37      0.47      1000\n",
            "           1       0.55      0.69      0.61      1000\n",
            "           2       0.40      0.25      0.30      1000\n",
            "           3       0.39      0.33      0.35      1000\n",
            "           4       0.39      0.51      0.44      1000\n",
            "           5       0.46      0.30      0.36      1000\n",
            "           6       0.51      0.56      0.54      1000\n",
            "           7       0.61      0.49      0.55      1000\n",
            "           8       0.41      0.83      0.55      1000\n",
            "           9       0.54      0.45      0.49      1000\n",
            "\n",
            "    accuracy                           0.48     10000\n",
            "   macro avg       0.49      0.48      0.47     10000\n",
            "weighted avg       0.49      0.48      0.47     10000\n",
            "\n",
            "\n",
            "Training CNN model...\n"
          ]
        },
        {
          "output_type": "stream",
          "name": "stderr",
          "text": [
            "/usr/local/lib/python3.11/dist-packages/keras/src/layers/convolutional/base_conv.py:107: UserWarning: Do not pass an `input_shape`/`input_dim` argument to a layer. When using Sequential models, prefer using an `Input(shape)` object as the first layer in the model instead.\n",
            "  super().__init__(activity_regularizer=activity_regularizer, **kwargs)\n"
          ]
        },
        {
          "output_type": "stream",
          "name": "stdout",
          "text": [
            "Epoch 1/10\n",
            "\u001b[1m 470/1563\u001b[0m \u001b[32m━━━━━━\u001b[0m\u001b[37m━━━━━━━━━━━━━━\u001b[0m \u001b[1m37s\u001b[0m 34ms/step - accuracy: 0.2830 - loss: 1.9395"
          ]
        }
      ],
      "source": [
        "import tensorflow as tf\n",
        "from tensorflow.keras import datasets, layers, models\n",
        "import matplotlib.pyplot as plt\n",
        "import numpy as np\n",
        "from sklearn.metrics import classification_report\n",
        "\n",
        "# Load the CIFAR-10 dataset\n",
        "(X_train, y_train), (X_test, y_test) = datasets.cifar10.load_data()\n",
        "\n",
        "print(\"Train shape:\", X_train.shape)\n",
        "print(\"Test shape:\", X_test.shape)\n",
        "print(\"Train labels shape:\", y_train.shape)\n",
        "print(\"Sample train labels:\", y_train[:5])\n",
        "\n",
        "# Reshape labels from 2D to 1D for sparse categorical loss\n",
        "y_train = y_train.reshape(-1,)\n",
        "y_test = y_test.reshape(-1,)\n",
        "print(\"Reshaped train labels:\", y_train[:5])\n",
        "\n",
        "classes = [\"airplane\",\"automobile\",\"bird\",\"cat\",\"deer\",\n",
        "           \"dog\",\"frog\",\"horse\",\"ship\",\"truck\"]\n",
        "\n",
        "# Function to plot a sample image with label\n",
        "def plot_sample(X, y, index):\n",
        "    plt.figure(figsize=(3,3))\n",
        "    plt.imshow(X[index])\n",
        "    plt.xlabel(classes[y[index]])\n",
        "    plt.show()\n",
        "\n",
        "# Plot a couple of sample images\n",
        "plot_sample(X_train, y_train, 0)\n",
        "plot_sample(X_train, y_train, 1)\n",
        "\n",
        "# Normalize pixel values to [0,1]\n",
        "X_train = X_train / 255.0\n",
        "X_test = X_test / 255.0\n",
        "\n",
        "# Build a simple Artificial Neural Network (ANN)\n",
        "ann = models.Sequential([\n",
        "    layers.Flatten(input_shape=(32,32,3)),\n",
        "    layers.Dense(3000, activation='relu'),\n",
        "    layers.Dense(1000, activation='relu'),\n",
        "    layers.Dense(10, activation='softmax')\n",
        "])\n",
        "\n",
        "ann.compile(optimizer='SGD',\n",
        "            loss='sparse_categorical_crossentropy',\n",
        "            metrics=['accuracy'])\n",
        "\n",
        "print(\"\\nTraining ANN model...\")\n",
        "ann.fit(X_train, y_train, epochs=5)\n",
        "\n",
        "# Evaluate ANN\n",
        "y_pred_ann = ann.predict(X_test)\n",
        "y_pred_classes_ann = [np.argmax(element) for element in y_pred_ann]\n",
        "\n",
        "print(\"\\nANN Classification Report:\")\n",
        "print(classification_report(y_test, y_pred_classes_ann))\n",
        "\n",
        "# Build a Convolutional Neural Network (CNN)\n",
        "cnn = models.Sequential([\n",
        "    layers.Conv2D(filters=32, kernel_size=(3,3), activation='relu', input_shape=(32,32,3)),\n",
        "    layers.MaxPooling2D((2,2)),\n",
        "\n",
        "    layers.Conv2D(filters=64, kernel_size=(3,3), activation='relu'),\n",
        "    layers.MaxPooling2D((2,2)),\n",
        "\n",
        "    layers.Flatten(),\n",
        "    layers.Dense(64, activation='relu'),\n",
        "    layers.Dense(10, activation='softmax')\n",
        "])\n",
        "\n",
        "cnn.compile(optimizer='adam',\n",
        "            loss='sparse_categorical_crossentropy',\n",
        "            metrics=['accuracy'])\n",
        "\n",
        "print(\"\\nTraining CNN model...\")\n",
        "cnn.fit(X_train, y_train, epochs=10)\n",
        "\n",
        "# Evaluate CNN\n",
        "test_loss, test_acc = cnn.evaluate(X_test, y_test)\n",
        "print(f\"\\nCNN Test accuracy: {test_acc:.4f}\")\n",
        "\n",
        "y_pred_cnn = cnn.predict(X_test)\n",
        "y_pred_classes_cnn = [np.argmax(element) for element in y_pred_cnn]\n",
        "\n",
        "print(\"\\nCNN Classification Report:\")\n",
        "print(classification_report(y_test, y_pred_classes_cnn))\n",
        "\n",
        "# Plot a test sample with predicted and actual labels\n",
        "def plot_sample_prediction(X, y_true, y_pred, index):\n",
        "    plt.figure(figsize=(3,3))\n",
        "    plt.imshow(X[index])\n",
        "    plt.xlabel(f\"True: {classes[y_true[index]]}\\nPred: {classes[y_pred[index]]}\")\n",
        "    plt.show()\n",
        "\n",
        "plot_sample_prediction(X_test, y_test, y_pred_classes_cnn, 3)\n"
      ]
    }
  ]
}